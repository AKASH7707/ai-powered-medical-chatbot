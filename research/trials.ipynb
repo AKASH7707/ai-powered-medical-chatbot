{
 "cells": [
  {
   "cell_type": "code",
   "execution_count": 1,
   "id": "66b011b0",
   "metadata": {},
   "outputs": [
    {
     "name": "stderr",
     "output_type": "stream",
     "text": [
      "/Users/akashvs/miniconda3/envs/medibot/lib/python3.10/site-packages/tqdm/auto.py:21: TqdmWarning: IProgress not found. Please update jupyter and ipywidgets. See https://ipywidgets.readthedocs.io/en/stable/user_install.html\n",
      "  from .autonotebook import tqdm as notebook_tqdm\n",
      "/Users/akashvs/miniconda3/envs/medibot/lib/python3.10/site-packages/langchain_pinecone/__init__.py:3: LangChainDeprecationWarning: As of langchain-core 0.3.0, LangChain uses pydantic v2 internally. The langchain_core.pydantic_v1 module was a compatibility shim for pydantic v1, and should no longer be used. Please update the code to import from Pydantic directly.\n",
      "\n",
      "For example, replace imports like: `from langchain_core.pydantic_v1 import BaseModel`\n",
      "with: `from pydantic import BaseModel`\n",
      "or the v1 compatibility namespace if you are working in a code base that has not been fully upgraded to pydantic 2 yet. \tfrom pydantic.v1 import BaseModel\n",
      "\n",
      "  from langchain_pinecone.vectorstores import Pinecone, PineconeVectorStore\n"
     ]
    }
   ],
   "source": [
    "# ---------- IMPORTS ----------\n",
    "from langchain.document_loaders import PyPDFLoader, DirectoryLoader\n",
    "from langchain.text_splitter import RecursiveCharacterTextSplitter\n",
    "from langchain_huggingface import HuggingFaceEmbeddings\n",
    "from langchain_pinecone import PineconeVectorStore\n",
    "from langchain.chains import create_retrieval_chain\n",
    "from langchain.chains.combine_documents import create_stuff_documents_chain\n",
    "from langchain_core.prompts import ChatPromptTemplate\n",
    "from dotenv import load_dotenv\n",
    "from pinecone.grpc import PineconeGRPC as Pinecone\n",
    "from pinecone import ServerlessSpec\n",
    "from langchain_community.llms import HuggingFaceHub\n",
    "import os\n"
   ]
  },
  {
   "cell_type": "code",
   "execution_count": 2,
   "id": "f19fdbeb",
   "metadata": {},
   "outputs": [
    {
     "name": "stdout",
     "output_type": "stream",
     "text": [
      "/Users/akashvs/Documents/GitHubProjects/ai-powered-medical-chatbot\n"
     ]
    }
   ],
   "source": [
    "%cd .."
   ]
  },
  {
   "cell_type": "code",
   "execution_count": 3,
   "id": "1435a3d3",
   "metadata": {},
   "outputs": [],
   "source": [
    "# ---------- LOAD PDFs ----------\n",
    "def load_pdf_file(data):\n",
    "    loader = DirectoryLoader(\n",
    "        data,\n",
    "        glob=\"*.pdf\",\n",
    "        loader_cls=PyPDFLoader\n",
    "    )\n",
    "    documents = loader.load()\n",
    "    return documents"
   ]
  },
  {
   "cell_type": "code",
   "execution_count": 4,
   "id": "ed5ace71",
   "metadata": {},
   "outputs": [],
   "source": [
    "extracted_data = load_pdf_file(data='data/')"
   ]
  },
  {
   "cell_type": "code",
   "execution_count": 5,
   "id": "ea5f5e9e",
   "metadata": {},
   "outputs": [
    {
     "data": {
      "text/plain": [
       "[Document(metadata={'producer': 'PDFlib+PDI 5.0.0 (SunOS)', 'creator': 'PyPDF', 'creationdate': '2004-12-18T17:00:02-05:00', 'moddate': '2004-12-18T16:15:31-06:00', 'source': 'data/Medical_book.pdf', 'total_pages': 637, 'page': 0, 'page_label': '1'}, page_content=''),\n",
       " Document(metadata={'producer': 'PDFlib+PDI 5.0.0 (SunOS)', 'creator': 'PyPDF', 'creationdate': '2004-12-18T17:00:02-05:00', 'moddate': '2004-12-18T16:15:31-06:00', 'source': 'data/Medical_book.pdf', 'total_pages': 637, 'page': 100, 'page_label': '101'}, page_content='• T cell lymphocytes: 644-2200/mm\\n3\\n, 60-88% of all lym-\\nphocytes.\\n• B cell lymphocytes: 82-392/mm\\n3\\n, 3-20% of all lympho-\\ncytes.\\n• CD4+ lymphocytes: 500-1200/mm\\n3\\n, 34-67% of all\\nlymphocytes.\\nAbnormal results\\nThe following results in AIDS tests indicate progres-\\nsion of the disease:\\n• Percentage of CD4+ lymphocytes: less than 20% of all\\nlymphocytes.\\n• CD4+ lymphocyte count: less than 200 cells/mm\\n3\\n.\\n• Viral load test: Levels more than 5000 copies/mL.\\n• /H9252-2-microglobulin: Levels more than 3.5 mg/dL.\\n• P24 antigen: Measurable amounts in blood serum.\\nResources\\nBOOKS\\nAvrameas, Stratis, and Therese Ternynck. “Enzyme Linked\\nImmunosorbent Assay (ELISA).” In Encyclopedia of\\nImmunology.V ol. 1. Ed. Ivan M. Roitt and Peter J. Delves.\\nLondon: Academic Press, 1992.\\nBennett, Rebecca, and Erin, Charles A. (Editors). HIV and\\nAIDS Testing, Screening, and Confidentiality: Ethics, Law,\\nand Social Policy.Oxford, England: Oxford University\\nPress, 2001.\\nEarly HIV Infection Guideline Panel. Evaluation and Manage-\\nment of Early HIV Infection. Rockville, MD: U.S. Depart-\\nment of Health and Human Services, Agency for Health\\nCare Policy and Research, 1994.\\nHuber, Jeffrey T. Dictionary of AIDS- Related Terminology.\\nNew York: Neal-Schuman Publishers, Inc., 1993.\\n“Infectious Diseases: Human Immunodeficiency Virus (HIV).”\\nIn Neonatology: Management, Procedures, On-Call Prob-\\nlems, Diseases and Drugs. Ed. Tricia Lacy Gomella et al.\\nNorwalk, CT: Appleton & Lange, 1994.\\nKatz, Mitchell H., and Harry Hollander. “HIV Infection.” In\\nCurrent Medical Diagnosis & Treatment.Ed. Lawrence\\nM. Tierney et al. Stamford, CT: Appleton & Lange, 1998.\\nMcClure, Myra. “Human Immunodeficiency Viruses.” In Ency-\\nclopedia of Immunology.V ol. 2. Ed. by Ivan M. Roitt and\\nPeter J. Delves. London: Academic Press, 1992.\\nMcFarland, Elizabeth J. “Human Immunodeficiency Virus\\n(HIV) Infections: Acquired Immunodeficiency Syndrome\\n(AIDS).” In Current Pediatric Diagnosis & Treatment.Ed.\\nWilliam W. Hay et al. Stamford, CT: Appleton & Lange,\\n1997.\\nSo, Peter, and Livette Johnson. “Acquired Immune Deficiency\\nSyndrome (AIDS).” In Conn’s Current Therapy.Ed.\\nRobert E. Rakel. Philadelphia: W. B. Saunders Company,\\n1997.\\nSpringhouse Publishing. Handbook of Diagnostic Tests.\\nSpringhouse, PA: Springhouse Publishing Co., 1999.\\nTowbin, Harry. “Western Blotting.” In Encyclopedia of\\nImmunology.V ol. 3. Ed. Ivan M. Roitt and Peter J. Delves.\\nLondon: Academic Press, 1992.\\nPERIODICALS\\nFreedberg, Kenneth A., and Samet, Jeffrey H. “Think HIV\\n(HIV Testing).”Archives of Internal Medicine (September\\n27, 1999): 1994\\nKaplan, Edward H., and Satten, Glen A. “Repeat Screening for\\nHIV: When to Test and Why.”The Journal of the Ameri-\\ncan Medical Association. (July 19, 2000): 285.\\nSieff, Elaine M., et al. “Anticipated Versus Actual Reaction to\\nHIV Test Results.”American Journal of Psychology.\\n(Summer 1999): 297-298.\\nWeinhardt, Lance S., et al. “Human Immunodeficiency Virus\\nTesting and Behavior Change.”Archives of Internal Medi-\\ncine. (May 22, 2000): 1538.\\nWoehrle, Theresa A., and Branson, Bernard. “New Tests for\\nDetecting HIV Infection.”The Western Journal of Medi-\\ncine. (December 1998): 371-372.\\nORGANIZATION\\nNational Association of People with Aids. 1413 K St.N.W.,\\nWashington, DC 20005-3442. (202) 898-0414.\\nNational Institute of Health. Office of Aids Research. (301)\\n496-0357. <http://www.nih.gov/od/oar/index.htm>.\\nCenters for Disease Control and Prevention (CDC). 1600\\nClifton Rd., Atlanta, GA 30337. (404) 639-3311. <http://\\nwww.cdc.gov>.\\nOTHER\\nFood and Drug Administration (FDA). “Testing Yourself for\\nHIV-1, the Virus that Causes AIDS.” 1999. Available at\\nFDA Website: <http://www.fda.gov>. or by calling (301)\\n827-4460.\\nKen R. Wells\\nAir embolism see Gas embolism\\nAlanine aminotransferase test\\nDefinition\\nThe alanine aminotransferase test, also known as\\nALT, is one of a group of tests known as liver function\\ntests (or LFTs) and is used to monitor damage to the liver.\\nPurpose\\nALT levels are used to detect liver abnormalities.\\nSince the alanine aminotransferase enzyme is also found\\nin muscle, tests indicating elevated AST levels might also\\nindicate muscle damage. However, other tests, such as\\nGALE ENCYCLOPEDIA OF MEDICINE 2 87\\nAlanine aminotransferase test\\nGEM - 0001 to 0432 - A  10/22/03 1:41 PM  Page 87'),\n",
       " Document(metadata={'producer': 'PDFlib+PDI 5.0.0 (SunOS)', 'creator': 'PyPDF', 'creationdate': '2004-12-18T17:00:02-05:00', 'moddate': '2004-12-18T16:15:31-06:00', 'source': 'data/Medical_book.pdf', 'total_pages': 637, 'page': 200, 'page_label': '201'}, page_content='• Nitrous oxide (laughing gas) is a weak anesthetic and is\\nused with other agents, such as thiopental, to produce\\nsurgical anesthesia. It has the fastest induction and\\nrecovery and is the safest because it does not slow\\nbreathing or blood flow to the brain. However, it diffus-\\nes rapidly into air-containing cavities and can result in a\\ncollapsed lung ( pneumothorax ) or lower the oxygen\\ncontents of tissues (hypoxia).\\nCommonly administered intravenous anesthetic\\nagents include ketamine, thiopental, opioids, and propofol.\\n• Ketamine (Ketalar) affects the senses, and produces a\\ndissociative anesthesia (catatonia, amnesia, analgesia)\\nin which the patient may appear awake and reactive, but\\ncannot respond to sensory stimuli. These properties\\nmake it especially useful for use in developing coun-\\ntries and during warfare medical treatment. Ketamine is\\nfrequently used in pediatric patients because anesthesia\\nand analgesia can be achieved with an intramuscular\\ninjection. It is also used in high-risk geriatric patients\\nand in shock cases, because it also provides cardiac\\nstimulation.\\n• Thiopental (Pentothal) is a barbiturate that induces a\\nrapid hypnotic state of short duration. Because thiopen-\\ntal is slowly metabolized by the liver, toxic accumula-\\ntion can occur; therefore, it should not be continuously\\ninfused. Side effects include nausea and vomiting\\nupon awakening.\\n• Opioids include fentanyl, sufentanil, and alfentanil, and\\nare frequently used prior to anesthesia and surgery as a\\nsedative and analgesic, as well as a continuous infusion\\nfor primary anesthesia. Because opioids rarely affect\\nthe cardiovascular system, they are particularly useful\\nfor cardiac surgery and other high-risk cases. Opioids\\nact directly on spinal cord receptors, and are freqently\\nused in epidurals for spinal anesthesia. Side effects may\\ninclude nausea and vomiting, itching, and respiratory\\ndepression.\\n• Propofol (Diprivan) is a nonbarbiturate hypnotic agent\\nand the most recently developed intravenous anesthetic.\\nIts rapid induction and short duration of action are iden-\\ntical to thiopental, but recovery occurs more quickly\\nand with much less nausea and vomiting. Also, propo-\\nfol is rapidly metabolized in the liver and excreted in\\nthe urine, so it can be used for long durations of anes-\\nthesia, unlike thiopental. Hence, propofol is rapidly\\nreplacing thiopental as an intravenous induction agent.\\nIt is used for general surgery , cardiac surgery, neuro-\\nsurgery, and pediatric surgery.\\nGeneral anesthetics are given only by anesthesiolo-\\ngists, the medical professionals trained to use them. These\\nspecialists consider many factors, including a patient’s\\nage, weight, medication allergies, medical history, and\\ngeneral health, when deciding which anesthetic or combi-\\nnation of anesthetics to use. General anesthetics are usual-\\nly inhaled through a mask or a breathing tube or injected\\ninto a vein, but are also sometimes given rectally.\\nGeneral anesthesia is much safer today than it was in\\nthe past. This progress is due to faster-acting anesthetics,\\nimproved safety standards in the equipment used to\\ndeliver the drugs, and better devices to monitor breath-\\ning, heart rate, blood pressure, and brain activity during\\nsurgery. Unpleasant side effects are also less common.\\nRecommended dosage\\nThe dosage depends on the type of anesthetic, the\\npatient’s age and physical condition, the type of surgery\\nor medical procedure being done, and other medication\\nthe patient takes before, during, or after surgery.\\nPrecautions\\nAlthough the risks of serious complications from\\ngeneral anesthesia are very low, they can include heart\\nattack, stroke, brain damage, and death. Anyone sched-\\nuled to undergo general anesthesia should thoroughly\\ndiscuss the benefits and risks with a physician. The risks\\nof complications depend, in part, on a patient’s age, sex,\\nweight, allergies, general health, and history of smoking,\\ndrinking alcohol, or drug use. Some of these risks can be\\nminimized by ensuring that the physician and anesthesi-\\nologist are fully informed of the detailed health condition\\nof the patient, including any drugs that he or she may be\\nusing. Older people are especially sensitive to the effects\\nof certain anesthetics and may be more likely to experi-\\nence side effects from these drugs.\\nPatients who have had general anesthesia should not\\ndrink alcoholic beverages or take medication that slow\\ndown the central nervous system (such as antihista-\\nmines, sedatives, tranquilizers, sleep aids, certain pain\\nrelievers, muscle relaxants, and anti-seizure medication)\\nfor at least 24 hours, except under a doctor’s care.\\nSpecial conditions\\nPeople with certain medical conditions are at greater\\nrisk of developing problems with anesthetics. Before\\nundergoing general anesthesia, anyone with the follow-\\ning conditions should absolutely inform their doctor.\\nALLERGIES. Anyone who has had allergic or other\\nunusual reactions to barbiturates or general anesthetics\\nin the past should notify the doctor before having general\\nanesthesia. In particular, people who have had malignant\\nhyperthermia or whose family members have had malig-\\nnant hyperthermia during or after being given an anes-\\nGALE ENCYCLOPEDIA OF MEDICINE 2 187\\nAnesthesia, general\\nGEM - 0001 to 0432 - A  10/22/03 1:42 PM  Page 187'),\n",
       " Document(metadata={'producer': 'PDFlib+PDI 5.0.0 (SunOS)', 'creator': 'PyPDF', 'creationdate': '2004-12-18T17:00:02-05:00', 'moddate': '2004-12-18T16:15:31-06:00', 'source': 'data/Medical_book.pdf', 'total_pages': 637, 'page': 300, 'page_label': '301'}, page_content='right away. Switching to a different antimalarial drug may\\nbe an alternative and can allow the side effects to stop.\\nAnyone taking antimalarial drugs to prevent malaria\\nwho develops a fever or flu-like symptoms while taking\\nthe medicine or within two to three months after travel-\\ning to an area where malaria is common should call a\\nphysician immediately.\\nIf the medicine is being taken to treat malaria, and\\nsymptoms stay the same or get worse, check with the\\nphysician who prescribed the medicine.\\nPatients who take this medicine over a long time\\nneed to have a physician check them periodically for\\nunwanted side effects.\\nBabies and children are especially sensitive to the\\nantimalarial drug chloroquine. Not only are they more\\nlikely to have side effects from the medicine, but they are\\nalso at greater risk of being harmed by an overdose. A\\nsingle 300-mg tablet could kill a small child. Keep this\\nmedicine out of the reach of children. Use safety vials.\\nSpecial conditions\\nPeople with certain medical conditions or who are\\ntaking certain other medicines can have problems if\\nthey take antimalarial drugs. Before taking these drugs,\\nbe sure to let the physician know about any of these\\nconditions:\\nALLERGIES. Anyone who has had unusual reac-\\ntions to antimalarial drugs or related medicines in the\\npast should let his or her physician know before taking\\nthe drugs again. The physician should also be told\\nabout any allergies to foods, dyes, preservatives, or\\nother substances.\\nPREGNANCY. In laboratory animal studies, some\\nantimalarial drugs cause birth defects . But it is also\\nrisky for a pregnant woman to get malaria. Untreated\\nmalaria can cause premature birth, stillbirth , and mis-\\ncarriage . When given in low doses to prevent malaria,\\nantimalarial drugs have not been reported to cause birth\\ndefects in humans. If possible, pregnant women should\\navoid traveling to areas where they could get malaria. If\\ntravel is necessary, women who are pregnant or who may\\nbecome pregnant should check with their physicians\\nabout the use of antimalarial drugs.\\nBREASTFEEDING. Some antimalarial drugs pass into\\nbreast milk. Although no problems have been reported in\\nnursing babies whose mothers took antimalarial drugs,\\nbabies and young children are particularly sensitive to\\nsome of these drugs. Women who are breastfeeding\\nshould check with their physicians before using anti-\\nmalarial drugs.\\nOTHER MEDICAL CONDITIONS. Before using anti-\\nmalarial drugs, people who have any of these medical\\nproblems (or have had them in the past) should make\\nsure their physicians are aware of their conditions:\\n• blood disease\\n• liver disease\\n• nerve or brain disease or disorder, including seizures\\n(convulsions)\\n• past or current mental disorder\\n• stomach or intestinal disease\\n• deficiency of the enzyme glucose-6-phosphate dehy-\\ndrogenase (G6PD), which is important in the break-\\ndown of sugar in the body\\n• deficiency of the enzyme nicotinamide adenine dinu-\\ncleotide (NADH) methemoglobin reductase\\n• psoriasis\\n• heart disease\\n• family or personal history of the genetic condition fav-\\nism (a hereditary allergic condition)\\n• family or personal history of hemolytic anemia, a con-\\ndition in which red blood cells are destroyed\\n• purpura\\n• hypoglycemia (low blood sugar)\\n• blackwater fever (a serious complication of one type of\\nmalaria)\\n• myasthenia gravis (a disease of the nerves and muscles)\\nUSE OF CERTAIN MEDICINES. Taking antimalarial\\ndrugs with certain other drugs may affect the way the\\ndrugs work or may increase the chance of side effects.\\nSide effects\\nHigh doses of the antimalarial drug pyrimethamine\\nmay cause blood problems that caninterfere with healing\\nand increase the risk of infection. People taking this drug\\nshould be careful not to injure their gums when brushing\\nor flossing their teeth or using toothpicks. If possible,\\ndental work should be postponed until treatment is com-\\nplete and the blood has returned to normal.\\nThe most common side effects of antimalarial drugs\\nare diarrhea , nausea or vomiting, stomach cramps or\\npain, loss of appetite, headache, itching, difficulty con-\\ncentrating, dizziness, lightheadedness, and sleep prob-\\nlems. These problems usually go away as the body\\nadjusts to the drug and do not require medical treatment.\\nLess common side effects, such as hair loss or loss of\\ncolor in the hair; skin rash; or blue-black discoloration of\\nthe skin, fingernails, or inside of the mouth also may\\nGALE ENCYCLOPEDIA OF MEDICINE 2 287\\nAntimalarial drugs\\nGEM - 0001 to 0432 - A  10/22/03 1:42 PM  Page 287'),\n",
       " Document(metadata={'producer': 'PDFlib+PDI 5.0.0 (SunOS)', 'creator': 'PyPDF', 'creationdate': '2004-12-18T17:00:02-05:00', 'moddate': '2004-12-18T16:15:31-06:00', 'source': 'data/Medical_book.pdf', 'total_pages': 637, 'page': 400, 'page_label': '401'}, page_content='• Movement education and bodywork, including mas-\\nsage, myofacial release, and arthrokinetics, to help\\nrelease tension and make new movement patterns easier.\\n• Post-testing, when pre-testing movements are repeated,\\nallowing the client to feel the changes that have taken\\nplace and integrate them into daily life.\\nAston-Patterning requires more participation from\\nthe client than many bodywork techniques. The massage\\naspect of Aston-Patterning is designed around a three-\\ndimensional, non-compressive touch that releases pat-\\nterns of tension in the body. It is gentler than Rolfing.\\nMyokinetics uses touch to release tension in the face and\\nneck. Arthrokinetics addresses tension at bones and\\njoints. This massage is accompanied by education about\\nhow new movement patterns may be established.\\nIn addition to Aston-Patterning sessions, clients are\\nalso helped to examine their environment for factors, such\\nas seating or sleeping arrangements, that may limit their\\nbody function and introduce tension. Finally, they may\\nchoose to participate in the Aston fitness training program\\nthat includes loosening techniques based on self-massage,\\ntoning, stretching, and cardiovascular fitness.\\nKEY TERMS\\nRolfing—Developed by Dr. Ida Rolf (1896–1979),\\nrolfing is a systematic approach to relieving stress\\npatterns and dysfunctions in the body’s structure\\nthrough the manipulation of the highly pliant myofa-\\ncial (connective) tissue. It assists the body in reorga-\\nnizing its major segments into vertical alignment.\\nPreparations\\nNo special preparation need be taken.\\nPrecautions\\nNo special precautions are necessary when partici-\\npating.\\nSide effects\\nNo undesirable side effects are reported. Usually\\nclients report a diminution of tension, improved body\\nmovement, and an enhanced feeling of well being.\\nResearch and general acceptance\\nAston-Patterning is an outgrowth of Rolfing, which\\nhas been shown to be of benefit in a limited number of\\ncontrolled studies. Little controlled research has been done\\non the either benefits or limitations of Aston-Patterning. Its\\nclaims have been neither proven nor disproved, although\\nanecdotally many clients report relief from pain and ten-\\nsion and also improved body movement.\\nResources\\nORGANIZATIONS\\nThe Aston Training Center. P. O. Box 3568, Incline Village,\\nNV 89450. 775-831-8228. Astonpat@aol.com <http://\\nwww.aston-patterning.com>.\\nTish Davidson\\nAstrocytoma see Brain tumor\\nAtaxia-telangiectasia\\nDefinition\\nAtaxia-telangiectasia (A-T), also called Louis-Bar\\nsyndrome, is a rare, genetic neurological disorder of child-\\nGALE ENCYCLOPEDIA OF MEDICINE 2 387\\nAtaxia-telangiectasia\\nJUDITH ASTON\\nJudith Aston was born in Long Beach, California.\\nShe graduated from University of California at Los Ange-\\nles with a B.A. and a M.F.A. in dance. Her interest in\\nmovement arose from working as a dancer. In 1963\\nAston established her first movement education pro-\\ngram for dancers, actors, and athletes at Long Beach\\nCity College.\\nFive years later, while recovering from injuries sus-\\ntained during two consecutive automobile accidents,\\nAston met Ida Rolf, the developer of Rolfing. Aston\\nbegan working for Rolf, teaching a movement education\\nprogram called Rolf-Aston Structural Patterning that\\nemphasized using the body with minimum effort and\\nmaximum precision.\\nIn time, Rolf and Aston’s views on movement\\ndiverged, and the partnership was dissolved in 1977.\\nAston formed her own company called the Aston Para-\\ndigm Corporation in Lake Tahoe, California. This com-\\npany provides training and certification for Aston practi-\\ntioners. She also began exploring how environmental\\nconditions affect body movement, foreshadowing the\\nergonomic movement in the workplace that developed\\nin the 1990s. Over time, Aston has expanded her move-\\nment work to include a fitness program for older adults.\\nToday, Judith Aston serves as director of Aston Paradigm\\nCorporation.\\nGEM - 0001 to 0432 - A  10/22/03 1:43 PM  Page 387'),\n",
       " Document(metadata={'producer': 'PDFlib+PDI 5.0.0 (SunOS)', 'creator': 'PyPDF', 'creationdate': '2004-12-18T17:00:02-05:00', 'moddate': '2004-12-18T16:15:31-06:00', 'source': 'data/Medical_book.pdf', 'total_pages': 637, 'page': 500, 'page_label': '501'}, page_content='the patient is irritable and not elevated, four of the symp-\\ntoms are required.\\nAlthough many clinicians find the criteria too rigid,\\na hypomanic diagnosis requires a duration of at least four\\ndays with at least three of the symptoms indicated for\\nmanic episodes (four if mood is irritable and not elevat-\\ned). DSM-IV notes that unlike manic episodes, hypoman-\\nic episodes do not cause a marked impairment in social\\nor occupational functioning, do not require hospitaliza-\\ntion, and do not have psychotic features. In addition,\\nbecause hypomanic episodes are characterized by high\\nenergy and goal directed activities and often result in a\\npositive outcome, or are perceived in a positive manner\\nby the patient, bipolar II disorder can go undiagnosed.\\nBipolar symptoms often present differently in chil-\\ndren and adolescents. Manic episodes in these age groups\\nare typically characterized by more psychotic features\\nthan in adults, which may lead to a misdiagnosis of schiz-\\nophrenia. Children and adolescents also tend toward irri-\\ntability and aggressiveness instead of elation. Further,\\nsymptoms tend to be chronic, or ongoing, rather than\\nacute, or episodic. Bipolar children are easily distracted,\\nimpulsive, and hyperactive, which can lead to a misdiag-\\nnosis of attention deficit hyperactivity disorder (ADHD).\\nFurthermore, their aggression often leads to violence,\\nwhich may be misdiagnosed as a conduct disorder.\\nSubstance abuse, thyroid disease, and use of pre-\\nscription or over-the-counter medication can mask or\\nmimic the presence of bipolar disorder. In cases of sub-\\nstance abuse, the patient must ordinarily undergo a peri-\\nod of detoxification and abstinence before a mood disor-\\nder is diagnosed and treatment begins.\\nTreatment\\nTreatment of bipolar disorder is usually by means of\\nmedication. A combination of mood stabilizing agents\\nwith antidepressants, antipsychotics, and anticonvulsants\\nis used to regulate manic and depressive episodes.\\nMood stabilizing agents such as lithium, carba-\\nmazepine, and valproate are prescribed to regulate the\\nmanic highs and lows of bipolar disorder:\\n• Lithium (Cibalith-S, Eskalith, Lithane, Lithobid,\\nLithonate, Lithotabs) is one of the oldest and most fre-\\nquently prescribed drugs available for the treatment of\\nbipolar mania and depression. Because the drug takes\\nfour to ten days to reach a therapeutic level in the blood-\\nstream, it is sometimes prescribed in conjunction with\\nneuroleptics and/or benzodiazepines to provide more\\nimmediate relief of a manic episode. Lithium has also\\nbeen shown to be effective in regulating bipolar depres-\\nsion, but is not recommended for mixed mania. Lithium\\nmay not be an effective long-term treatment option for\\nrapid cyclers, who typically develop a tolerance for it, or\\nmay not respond to it. Possible side effects of the drug\\ninclude weight gain, thirst, nausea, and hand tremors.\\nProlonged lithium use may also cause hyperthyroidism\\n(a disease of the thryoid that is marked by heart palpita-\\ntions, nervousness, the presence of goiter, sweating,\\nand a wide array of other symptoms.)\\n• Carbamazepine (Tegretol, Atretol) is an anticonvulsant\\ndrug usually prescribed in conjunction with other mood\\nstabilizing agents. The drug is often used to treat bipo-\\nlar patients who have not responded well to lithium\\ntherapy. Blurred vision and abnormal eye movement\\nare two possible side effects of carbamazepine therapy.\\nAs of early 1998, carbamazepine did not have an FDA-\\ncleared indication for mania.\\n• Valproate (divalproex sodium, or Depakote; valproic\\nacid, or Depakene) is one of the few drugs available that\\nhas been proven effective in treating rapid cycling bipo-\\nlar and mixed states patients. Valproate is prescribed\\nalone or in combination with carbamazepine and/or lithi-\\num. Stomach cramps, indigestion, diarrhea, hair loss,\\nappetite loss, nausea, and unusual weight loss or gain are\\nsome of the common side effects of valproate. Note: val-\\nproate is also approved for the treatment of mania.\\nBecause antidepressants may stimulate manic\\nepisodes in some bipolar patients, their use is typically\\nshort-term. Selective serotonin reuptake inhibitors\\n(SSRIs) or, less often, monoamine oxidase inhibitors\\n(MAO inhibitors) are prescribed for episodes of bipolar\\ndepression. Tricyclic antidepressants used to treat unipo-\\nlar depression may trigger rapid cycling in bipolar\\npatients and are, therefore, not a preferred treatment\\noption for bipolar depression.\\n• SSRIs, such as fluoxetine (Prozac), sertraline (Zoloft),\\nand paroxetine (Paxil), regulate depression by regulating\\nlevels of serotonin, a neurotransmitter. Anxiety, diarrhea,\\ndrowsiness, headache, sweating, nausea, sexual prob-\\nlems, and insomniaare all possible side effects of SSRIs.\\n• MAOIs such as tranylcypromine (Parnate) and phenel-\\nzine (Nardil) block the action of monoamine oxidase\\n(MAO), an enzyme in the central nervous system.\\nPatients taking MAOIs must cut foods high in tyramine\\n(found in aged cheeses and meats) out of their diet to\\navoid hypotensive side effects.\\n• Bupropion (Wellbutrin) is a heterocyclic antidepres-\\nsant. The exact neurochemical mechanism of the drug\\nis not known, but it has been effective in regulating\\nbipolar depression in some patients. Side effects of\\nbupropion include agitation, anxiety, confusion, tremor,\\ndry mouth , fast or irregular heartbeat, headache, and\\ninsomnia.\\nGALE ENCYCLOPEDIA OF MEDICINE 2 487\\nBipolar disorder\\nGEM -0433 to 0624 - B  10/22/03 6:08 PM  Page 487'),\n",
       " Document(metadata={'producer': 'PDFlib+PDI 5.0.0 (SunOS)', 'creator': 'PyPDF', 'creationdate': '2004-12-18T17:00:02-05:00', 'moddate': '2004-12-18T16:15:31-06:00', 'source': 'data/Medical_book.pdf', 'total_pages': 637, 'page': 600, 'page_label': '601'}, page_content='while a good result may mimic a normal breast closely,\\nthere will inevitably be scars and loss of sensation. The\\nreconstructed breast cannot be exactly like the original.\\nThe first step is to form a structure called a breast\\nmound. This can be accomplished using artificial materials\\ncalled breast implants, or by using tissues from other parts\\nof the woman’s body. The second step involves creating a\\nbalance between the newly constructed breast and the\\nbreast on the opposite side. The nipple and areolar complex\\n(darker area around the nipple) are recreated. This is usual-\\nly done several months after the mound is created, to allow\\nswelling to go down. Other procedures may be necessary,\\nsuch as lifting the opposite breast (mastopexy), or making\\nit larger or smaller to match the reconstructed breast.\\nTiming, immediate or delayed reconstruction\\nWhile immediate reconstruction (IR) is not recom-\\nmended for women with breast cancer who need to under-\\ngo other, more important treatments, breast reconstruction\\ncan be done almost anytime. It even can be done during the\\nsame procedure as the mastectomy, or it can be delayed.\\nThere are psychological benefits to IR. The ability to return\\nto normal activities and routines is often enhanced when\\nreconstruction follows immediately after mastectomy. A\\nbetter appearance may result from IR. There is less skin\\nremoval, often resulting in a shorter scar. The surgeon is\\nbetter able to preserve the normal boundaries of the breast,\\nso it is easier to match the opposite breast more closely.\\nThe cost of IR is generally lower than the cost of\\ndelayed reconstruction (DR). There is one fewer opera-\\ntion and hospital stay. Surgeon’s fees may be lower for a\\ncombined procedure than for two separate surgeries.\\nThere are disadvantages of IR as well. The surgery\\nitself is longer, causing more time under anesthesia.\\nPost-operative pain and recovery time will be greater\\nthan for mastectomy alone.\\nOther authorities contend that delayed reconstruc-\\ntion (DR) offers different physical and psychological\\nadvantages. The initial mastectomy procedure alone\\ntakes less time, and has a shorter recovery period and less\\npain than mastectomy and IR. The patient has more time\\nto adjust to her diagnosis and recover from additional\\ntherapy. She is better able to research her options, and to\\nformulate realistic goals for reconstruction. Some recon-\\nstructive surgery requires blood transfusions. With DR,\\nthe patient can donate her own blood ahead of time\\n(autologous transfusion), and/or arrange to have family\\nand friends donate blood for her use (directed donation).\\nThe psychological stress of living without a breast is\\na disadvantage of DR. The extra procedure DR entails\\nresults in higher costs. Although initial recovery is faster,\\nan additional recuperation period is required after the\\ndelayed operation.\\nType of reconstruction\\nThere are two basic choices for breast reconstruc-\\ntion. The breast tissue can be replaced with an implant or\\nthe breast is created using some of the woman’s own tis-\\nsues (autologous reconstruction).\\nARTIFICIAL IMPLANTS. In general, implant proce-\\ndures take less time, and are less expensive than autolo-\\ngous ones. Implants are breast shaped pouches. They are\\nmade of silicone outer shells, which may be smooth or\\ntextured. The inside may contain silicone gel, saline (salt\\nwater), or a combination of both.\\nAn implant may be a fixed volume type, which can-\\nnot change its size. Implants that have the capacity to be\\nfilled after insertion are called tissue expanders. These\\nmay be temporary or permanent.\\nThe initial procedure for any implant insertion uses\\nthe mastectomy incision to make a pocket of tissue, usu-\\nally underneath the chest wall muscle. In DR, the mas-\\ntectomy scar may be re opened and used for this purpose,\\nor a more cosmetic incision may be made. The implant is\\ninserted into the pocket, the skin is stretched as needed\\nand stitched closed.\\nIf there is inadequate tissue to achieve the desired size,\\nor a naturally sagging breast is desired, a tissue expander is\\nused. It resembles a partially deflated balloon, with an\\nattached valve or port through which saline can be injected.\\nAfter the initial surgical incision is healed, the woman\\nreturns to the doctor’s office, on a weekly or bi-weekly\\nbasis, to have small amounts of saline injected. Injections\\ncan continue for about six to eight weeks, until the preferred\\nsize is obtained. In some cases it may be overfilled, and later\\npartially deflated to allow for a more pliable, natural result.\\nA temporary tissue expander will be removed after several\\nmonths and replaced with a permanent implant.\\nIR surgery using an implant takes approximately\\ntwo to three hours, and usually requires up to a three day\\nhospital stay. Implant insertion surgery, as part of DR,\\ntakes one to two hours and can sometimes be done as an\\noutpatient, or it or it may entail overnight hospitalization.\\nAUTOLOGUS RECONSTRUCTION. Attached flap and\\nfree flap are two types of surgery where a woman’s tissue\\nis used in reconstruction. An attached flap uses skin, mus-\\ncle, and fat, leaving blood vessels attached to their origi-\\nnal source of blood. The flap is maneuvered to the recon-\\nstruction site, keeping its original blood supply for nour-\\nishment. This may also be known as a pedicle flap. The\\nsecond kind of surgery is called a free flap. This also uses\\nskin, muscle, and fat, but severs the blood vessels, and\\nGALE ENCYCLOPEDIA OF MEDICINE 2 587\\nBreast reconstruction\\nGEM -0433 to 0624 - B  10/22/03 6:09 PM  Page 587')]"
      ]
     },
     "execution_count": 5,
     "metadata": {},
     "output_type": "execute_result"
    }
   ],
   "source": [
    "extracted_data[: :100]"
   ]
  },
  {
   "cell_type": "code",
   "execution_count": 6,
   "id": "9a7c9a9f",
   "metadata": {},
   "outputs": [],
   "source": [
    "# ---------- SPLIT INTO CHUNKS ----------\n",
    "def text_split(extracted_data):\n",
    "    text_splitter = RecursiveCharacterTextSplitter(chunk_size=500, chunk_overlap=20)\n",
    "    text_chunks = text_splitter.split_documents(extracted_data)\n",
    "    return text_chunks"
   ]
  },
  {
   "cell_type": "code",
   "execution_count": 7,
   "id": "2aedbf04",
   "metadata": {},
   "outputs": [
    {
     "name": "stdout",
     "output_type": "stream",
     "text": [
      "Length of Text Chunks: 5859\n"
     ]
    }
   ],
   "source": [
    "text_chunks = text_split(extracted_data)\n",
    "print(\"Length of Text Chunks:\", len(text_chunks))"
   ]
  },
  {
   "cell_type": "code",
   "execution_count": 8,
   "id": "1f9f1df7",
   "metadata": {},
   "outputs": [
    {
     "data": {
      "text/plain": [
       "[Document(metadata={'producer': 'PDFlib+PDI 5.0.0 (SunOS)', 'creator': 'PyPDF', 'creationdate': '2004-12-18T17:00:02-05:00', 'moddate': '2004-12-18T16:15:31-06:00', 'source': 'data/Medical_book.pdf', 'total_pages': 637, 'page': 1, 'page_label': '2'}, page_content='The GALE\\nENCYCLOPEDIA\\nof MEDICINE\\nSECOND EDITION'),\n",
       " Document(metadata={'producer': 'PDFlib+PDI 5.0.0 (SunOS)', 'creator': 'PyPDF', 'creationdate': '2004-12-18T17:00:02-05:00', 'moddate': '2004-12-18T16:15:31-06:00', 'source': 'data/Medical_book.pdf', 'total_pages': 637, 'page': 115, 'page_label': '116'}, page_content='Alemtuzumab\\nDefinition\\nAlemtuzumab is sold as Campath in the United\\nStates. Alemtuzumab is a humanized monoclonal anti-\\nbody that selectively binds to CD52, a protein found on\\nthe surface of normal and malignant B and T cells, that is\\nused to reduce the numbers of circulating malignant cells\\nof patients who have B-cell chronic lymphocytic\\nleukemia (B-CLL).\\nPurpose\\nAlemtuzumab is a monoclonal antibody used to treat\\nB-CLL, one of the most prevalent forms of adult chronic'),\n",
       " Document(metadata={'producer': 'PDFlib+PDI 5.0.0 (SunOS)', 'creator': 'PyPDF', 'creationdate': '2004-12-18T17:00:02-05:00', 'moddate': '2004-12-18T16:15:31-06:00', 'source': 'data/Medical_book.pdf', 'total_pages': 637, 'page': 220, 'page_label': '221'}, page_content='mation occurs, the physician may perform an incision so\\nas to drain the abscess.\\nIf infection occurs, antibiotics are prescribed.\\nAntibiotics may also be used for infection prevention.\\nSince a single bite wound may contain many different\\ntypes of bacteria, no single antibiotic is always effective.\\nCommonly prescribed antibiotics are penicillin or a com-\\nbination of amoxicillin and clavulanate potassium.\\nBecause rabies is caused by a virus, antibiotics are'),\n",
       " Document(metadata={'producer': 'PDFlib+PDI 5.0.0 (SunOS)', 'creator': 'PyPDF', 'creationdate': '2004-12-18T17:00:02-05:00', 'moddate': '2004-12-18T16:15:31-06:00', 'source': 'data/Medical_book.pdf', 'total_pages': 637, 'page': 328, 'page_label': '329'}, page_content='Resources\\nORGANIZATIONS\\nDigestive Disease National Coalition. 507 Capitol Court NE,\\nSuite 200, Washington, DC 20003. (202) 544-7497.\\nNational Digestive Diseases Information Clearinghouse. 2\\nInformation Way, Bethesda, MD 20892-3570.\\nnddic@aerie.com. <http://www.niddk.nih.gov/Brochures/\\nNDDIC.htm>.\\nOTHER\\nDuodenal Ulcer Fact sheet. Johns Hopkins Health Information\\nAdult Health Advisor. Available at <http://csi.intelihealth.\\ncom>.\\nNational Institute of Diabetes and Digestive and Kidney Dis-'),\n",
       " Document(metadata={'producer': 'PDFlib+PDI 5.0.0 (SunOS)', 'creator': 'PyPDF', 'creationdate': '2004-12-18T17:00:02-05:00', 'moddate': '2004-12-18T16:15:31-06:00', 'source': 'data/Medical_book.pdf', 'total_pages': 637, 'page': 435, 'page_label': '436'}, page_content='• Hashimoto’s thyroiditis . Caused by an antibody that\\nbinds to cells in the thyroid gland. Unlike in Grave’s\\ndisease, however, this antibody’s action results in less\\nthyroid hormone being made.\\n• Pemphigus vulgaris. A group of autoimmune disorders\\nthat affect the skin.\\n• Myasthenia gravis . A condition in which the immune\\nsystem attacks a receptor on the surface of muscle cells,\\npreventing the muscle from receiving nerve impulses\\nand resulting in severe muscle weakness.'),\n",
       " Document(metadata={'producer': 'PDFlib+PDI 5.0.0 (SunOS)', 'creator': 'PyPDF', 'creationdate': '2004-12-18T17:00:02-05:00', 'moddate': '2004-12-18T16:15:31-06:00', 'source': 'data/Medical_book.pdf', 'total_pages': 637, 'page': 543, 'page_label': '544'}, page_content='Normal results\\nNormal results are:\\n• fasting plasma glucose test less than 120 mg/dL\\n• oral glucose tolerance test, 2 hours less than 140 mg/dL\\nFor the diabetic person, the ADA recommends an ongo-\\ning blood sugar goal of less than or equal to 120 mg/dL.\\nAbnormal results\\nThese abnormal results indicate diabetes and must\\nbe confirmed with repeat testing:\\n• fasting plasma glucose test less than or equal to 126\\nmg/dL\\n• oral glucose tolerance test, 2 hours less than or equal to\\n200 mg/dL')]"
      ]
     },
     "execution_count": 8,
     "metadata": {},
     "output_type": "execute_result"
    }
   ],
   "source": [
    "text_chunks[: :1000]"
   ]
  },
  {
   "cell_type": "code",
   "execution_count": 11,
   "id": "5a320016",
   "metadata": {},
   "outputs": [
    {
     "name": "stdout",
     "output_type": "stream",
     "text": [
      "Embedding vector length: 384\n"
     ]
    }
   ],
   "source": [
    "# ---------- EMBEDDINGS FROM HUGGING FACE ----------\n",
    "embeddings = HuggingFaceEmbeddings(model_name='sentence-transformers/all-MiniLM-L6-v2')\n",
    "query_result = embeddings.embed_query(\"Hello world\")\n",
    "print(\"Embedding vector length:\", len(query_result))"
   ]
  },
  {
   "cell_type": "code",
   "execution_count": 14,
   "id": "e1363f00",
   "metadata": {},
   "outputs": [
    {
     "data": {
      "text/plain": [
       "[-0.03447728604078293,\n",
       " 0.031023193150758743,\n",
       " 0.006734972819685936,\n",
       " 0.026109015569090843,\n",
       " -0.03936203196644783,\n",
       " -0.16030248999595642,\n",
       " 0.06692397594451904,\n",
       " -0.006441446952521801,\n",
       " -0.047450508922338486,\n",
       " 0.014758873730897903]"
      ]
     },
     "execution_count": 14,
     "metadata": {},
     "output_type": "execute_result"
    }
   ],
   "source": [
    "query_result[:10]"
   ]
  },
  {
   "cell_type": "code",
   "execution_count": null,
   "id": "d4acbd2f",
   "metadata": {},
   "outputs": [],
   "source": [
    "# ---------- LOAD ENVIRONMENT VARIABLES ----------\n",
    "load_dotenv()\n",
    "PINECONE_API_KEY = os.getenv('PINECONE_API_KEY')\n",
    "GOOGLE_API_KEY = os.getenv('GOOGLE_API_KEY')"
   ]
  },
  {
   "cell_type": "code",
   "execution_count": 135,
   "id": "b970c116",
   "metadata": {},
   "outputs": [],
   "source": [
    "# ---------- INITIALIZE PINECONE ----------\n",
    "pc = Pinecone(api_key=PINECONE_API_KEY)\n",
    "\n",
    "index_name = \"medicalbot\"\n",
    "\n",
    "# Create index if not exists\n",
    "if index_name not in [index.name for index in pc.list_indexes()]:\n",
    "    pc.create_index(\n",
    "        name=index_name,\n",
    "        dimension=384,\n",
    "        metric=\"cosine\",\n",
    "        spec=ServerlessSpec(cloud=\"aws\", region=\"us-east-1\")\n",
    "    )\n"
   ]
  },
  {
   "cell_type": "code",
   "execution_count": 22,
   "id": "0466effb",
   "metadata": {},
   "outputs": [],
   "source": [
    "# ---------- UPSERT EMBEDDINGS ----------\n",
    "docsearch = PineconeVectorStore.from_documents(\n",
    "    documents=text_chunks,\n",
    "    index_name=index_name,\n",
    "    embedding=embeddings,\n",
    ")"
   ]
  },
  {
   "cell_type": "code",
   "execution_count": 23,
   "id": "63192cd4",
   "metadata": {},
   "outputs": [],
   "source": [
    "# ---------- LOAD EXISTING INDEX ----------\n",
    "docsearch = PineconeVectorStore.from_existing_index(\n",
    "    index_name=index_name,\n",
    "    embedding=embeddings\n",
    ")\n",
    "\n",
    "retriever = docsearch.as_retriever(search_type=\"similarity\", search_kwargs={\"k\": 3})"
   ]
  },
  {
   "cell_type": "code",
   "execution_count": 24,
   "id": "3e675500",
   "metadata": {},
   "outputs": [
    {
     "data": {
      "text/plain": [
       "[Document(id='44c73afc-192d-4078-8d89-ed3a51d87347', metadata={'creationdate': '2004-12-18T17:00:02-05:00', 'creator': 'PyPDF', 'moddate': '2004-12-18T16:15:31-06:00', 'page': 39.0, 'page_label': '40', 'producer': 'PDFlib+PDI 5.0.0 (SunOS)', 'source': 'data/Medical_book.pdf', 'total_pages': 637.0}, page_content='GALE ENCYCLOPEDIA OF MEDICINE 226\\nAcne\\nGEM - 0001 to 0432 - A  10/22/03 1:41 PM  Page 26'),\n",
       " Document(id='a3854d64-7383-46fe-9f9c-c528012409b9', metadata={'creationdate': '2004-12-18T17:00:02-05:00', 'creator': 'PyPDF', 'moddate': '2004-12-18T16:15:31-06:00', 'page': 38.0, 'page_label': '39', 'producer': 'PDFlib+PDI 5.0.0 (SunOS)', 'source': 'data/Medical_book.pdf', 'total_pages': 637.0}, page_content='GALE ENCYCLOPEDIA OF MEDICINE 2 25\\nAcne\\nAcne vulgaris affecting a woman’s face. Acne is the general\\nname given to a skin disorder in which the sebaceous\\nglands become inflamed. (Photograph by Biophoto Associ-\\nates, Photo Researchers, Inc. Reproduced by permission.)\\nGEM - 0001 to 0432 - A  10/22/03 1:41 PM  Page 25'),\n",
       " Document(id='d3412dfc-d0ee-4a3b-a2bb-15be66a976fc', metadata={'creationdate': '2004-12-18T17:00:02-05:00', 'creator': 'PyPDF', 'moddate': '2004-12-18T16:15:31-06:00', 'page': 239.0, 'page_label': '240', 'producer': 'PDFlib+PDI 5.0.0 (SunOS)', 'source': 'data/Medical_book.pdf', 'total_pages': 637.0}, page_content='Isotretinoin (Accutane) is prescribed only for very\\nsevere, disfiguring acne.\\nAcne is a skin condition that occurs when pores or\\nhair follicles become blocked. This allows a waxy\\nmaterial, sebum, to collect inside the pores or follicles.\\nNormally, sebum flows out onto the skin and hair to\\nform a protective coating, but when it cannot get out,\\nsmall swellings develop on the skin surface. Bacteria\\nand dead skin cells can also collect that can cause\\ninflammation. Swellings that are small and not')]"
      ]
     },
     "execution_count": 24,
     "metadata": {},
     "output_type": "execute_result"
    }
   ],
   "source": [
    "retriever_ex = retriever.invoke(\"Acne\")\n",
    "retriever_ex"
   ]
  },
  {
   "cell_type": "code",
   "execution_count": 140,
   "id": "476a6632",
   "metadata": {},
   "outputs": [
    {
     "name": "stderr",
     "output_type": "stream",
     "text": [
      "E0000 00:00:1759752976.974789 1189862 alts_credentials.cc:93] ALTS creds ignored. Not running on GCP and untrusted ALTS is not enabled.\n"
     ]
    }
   ],
   "source": [
    "from langchain_google_genai import ChatGoogleGenerativeAI\n",
    "\n",
    "\n",
    "llm = ChatGoogleGenerativeAI(model=\"models/gemini-2.5-flash-lite-preview-06-17\", temperature=0.4, max_output_tokens=100)\n"
   ]
  },
  {
   "cell_type": "code",
   "execution_count": 141,
   "id": "e12c175e",
   "metadata": {},
   "outputs": [],
   "source": [
    "system_prompt = (\n",
    "    \"You are an assistant for question-answering tasks. \"\n",
    "    \"Use the following pieces of retrieved context to answer \"\n",
    "    \"the question. If you don't know the answer, say that you \"\n",
    "    \"don't know. Use three sentences maximum and keep the \"\n",
    "    \"answer concise.\"\n",
    "    \"\\n\\n\"\n",
    "    \"{context}\"\n",
    ")\n",
    "\n",
    "prompt = ChatPromptTemplate.from_messages(\n",
    "    [\n",
    "        (\"system\", system_prompt),\n",
    "        (\"human\", \"{input}\"),\n",
    "    ]\n",
    ")\n"
   ]
  },
  {
   "cell_type": "code",
   "execution_count": 142,
   "id": "2dbd46ce",
   "metadata": {},
   "outputs": [],
   "source": [
    "question_answer_chain = create_stuff_documents_chain(llm, prompt)\n",
    "rag_chain = create_retrieval_chain(retriever, question_answer_chain)"
   ]
  },
  {
   "cell_type": "code",
   "execution_count": null,
   "id": "b6b44b17",
   "metadata": {},
   "outputs": [
    {
     "name": "stdout",
     "output_type": "stream",
     "text": [
      "Acromegaly and gigantism are disorders caused by the abnormal release of a chemical from the pituitary gland, leading to increased growth in bone and soft tissue. Gigantism occurs when this abnormality happens before bone growth stops, resulting in unusual height. Acromegaly is diagnosed when the abnormality occurs after bone growth has ceased.\n"
     ]
    }
   ],
   "source": [
    "response = rag_chain.invoke({\"input\": \"what is Heart Attack and why it is occuring?\"})\n",
    "print(response[\"answer\"])"
   ]
  },
  {
   "cell_type": "code",
   "execution_count": 148,
   "id": "7c11638d",
   "metadata": {},
   "outputs": [
    {
     "name": "stdout",
     "output_type": "stream",
     "text": [
      "langchain: 0.3.27\n",
      "flask: 3.1.2\n",
      "pypdf: 6.1.1\n",
      "python-dotenv: 1.1.1\n",
      "pinecone-client: Not installed\n",
      "langchain-pinecone: 0.2.12\n",
      "langchain_community: 0.3.30\n",
      "langchain_experimental: 0.3.4\n",
      "sentence-transformers: 5.1.1\n",
      "langchain-google-genai: 2.0.10\n",
      "google-generativeai: 0.8.5\n",
      "langchain-huggingface: 0.3.1\n"
     ]
    }
   ],
   "source": [
    "import pkg_resources\n",
    "\n",
    "packages = [\n",
    "    \"langchain\", \"flask\", \"pypdf\", \"python-dotenv\",\n",
    "    \"pinecone-client\", \"langchain-pinecone\", \"langchain_community\",\n",
    "    \"langchain_experimental\", \"sentence-transformers\",\n",
    "    \"langchain-google-genai\", \"google-generativeai\", \"langchain-huggingface\"\n",
    "]\n",
    "\n",
    "for pkg in packages:\n",
    "    try:\n",
    "        version = pkg_resources.get_distribution(pkg).version\n",
    "        print(f\"{pkg}: {version}\")\n",
    "    except pkg_resources.DistributionNotFound:\n",
    "        print(f\"{pkg}: Not installed\")\n",
    "\n"
   ]
  },
  {
   "cell_type": "code",
   "execution_count": null,
   "id": "dc502714",
   "metadata": {},
   "outputs": [],
   "source": []
  }
 ],
 "metadata": {
  "kernelspec": {
   "display_name": "medibot",
   "language": "python",
   "name": "python3"
  },
  "language_info": {
   "codemirror_mode": {
    "name": "ipython",
    "version": 3
   },
   "file_extension": ".py",
   "mimetype": "text/x-python",
   "name": "python",
   "nbconvert_exporter": "python",
   "pygments_lexer": "ipython3",
   "version": "3.10.18"
  }
 },
 "nbformat": 4,
 "nbformat_minor": 5
}
